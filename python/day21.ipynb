{
 "cells": [
  {
   "cell_type": "code",
   "execution_count": 1,
   "metadata": {},
   "outputs": [],
   "source": [
    "# Modules to support development\n",
    "import os\n",
    "import re\n",
    "import collections\n",
    "import itertools\n",
    "import functools\n",
    "import logging\n",
    "import pprint\n",
    "import numpy as np\n",
    "import heapq\n",
    "import copy\n",
    "from tqdm import tqdm"
   ]
  },
  {
   "cell_type": "code",
   "execution_count": 16,
   "metadata": {},
   "outputs": [
    {
     "name": "stdout",
     "output_type": "stream",
     "text": [
      "{'dbpl': 5, 'zczc': 2, 'dvpt': 3, 'lfqf': 4, 'humn': 5, 'ljgn': 2, 'sllz': 4, 'hmdt': 32} {('pppw', 'sjmn'): ('root', <function read_input.<locals>.<lambda> at 0x000002C601953520>), ('sllz', 'lgvd'): ('cczh', <function read_input.<locals>.<lambda> at 0x000002C6026A4670>), ('humn', 'dvpt'): ('ptdq', <function read_input.<locals>.<lambda> at 0x000002C6026A5240>), ('drzm', 'dbpl'): ('sjmn', <function read_input.<locals>.<lambda> at 0x000002C6026A52D0>), ('cczh', 'lfqf'): ('pppw', <function read_input.<locals>.<lambda> at 0x000002C6026A5360>), ('ljgn', 'ptdq'): ('lgvd', <function read_input.<locals>.<lambda> at 0x000002C6026A53F0>), ('hmdt', 'zczc'): ('drzm', <function read_input.<locals>.<lambda> at 0x000002C6026A5480>)}\n"
     ]
    }
   ],
   "source": [
    "def read_input(puzzle_input):\n",
    "    with open(puzzle_input) as ff:\n",
    "        dd = ff.readlines()\n",
    "\n",
    "    initial = {}\n",
    "    operators = {}\n",
    "    for ll in dd:\n",
    "        mm = re.match(\"(\\w+): (\\d+)\", ll.strip())\n",
    "        if mm:\n",
    "            initial[mm.group(1)] = int(mm.group(2))\n",
    "\n",
    "        mm = re.match(\"(\\w+): (\\w+) ([\\+\\-\\*\\/]) (\\w+)\", ll.strip())\n",
    "        if mm:\n",
    "            if mm.group(3) == \"+\":\n",
    "                func = lambda x, y: x + y\n",
    "            elif mm.group(3) == \"-\":\n",
    "                func = lambda x, y: x - y\n",
    "            elif mm.group(3) == \"*\":\n",
    "                func = lambda x, y: x * y\n",
    "            elif mm.group(3) == \"/\":\n",
    "                func = lambda x, y: x // y\n",
    "            operators[(mm.group(2), mm.group(4))] = (mm.group(1), func)\n",
    "\n",
    "    return initial, operators\n",
    "\n",
    "def test_read_input():\n",
    "    initial, operators = read_input(os.path.join(os.path.join(\"..\", \"dat\", \"day21_test.txt\")))\n",
    "    print(initial, operators)\n",
    "\n",
    "test_read_input()"
   ]
  },
  {
   "cell_type": "code",
   "execution_count": 22,
   "metadata": {},
   "outputs": [
    {
     "name": "stdout",
     "output_type": "stream",
     "text": [
      "152\n",
      "158661812617812\n"
     ]
    }
   ],
   "source": [
    "def part1(puzzle_input):\n",
    "    initial, operators = read_input(puzzle_input)\n",
    "\n",
    "    state = {}\n",
    "    for nn, vv in initial.items():\n",
    "        state[nn] = vv\n",
    "\n",
    "    while len(operators) > 0:\n",
    "        for (xx, yy), (oo, ff) in list(operators.items()):\n",
    "            if xx in state and yy in state:\n",
    "                state[oo] = ff(state[xx], state[yy])\n",
    "                operators.pop((xx, yy))\n",
    "\n",
    "            if \"root\" in state:\n",
    "                return state[\"root\"]\n",
    "\n",
    "def test_part1():\n",
    "    ans = part1(os.path.join(os.path.join(\"..\", \"dat\", \"day21_test.txt\")))\n",
    "    print(ans)\n",
    "    assert ans == 152\n",
    "\n",
    "test_part1()\n",
    "\n",
    "ans = part1(os.path.join(os.path.join(\"..\", \"dat\", \"day21.txt\")))\n",
    "print(ans)"
   ]
  },
  {
   "cell_type": "code",
   "execution_count": 80,
   "metadata": {},
   "outputs": [
    {
     "name": "stdout",
     "output_type": "stream",
     "text": [
      "Result 1 (-150, 0, 150)\n",
      "Result 2 (-150, 0, 150)\n",
      "Result 3 (-149, 1, 150)\n",
      "0.5 2 1 (3, -149) (2, -150)\n",
      "Result 301 (0, 150, 150)\n",
      "301\n",
      "Result 1 (53229630478972, 105945721566758, 52716091087786)\n",
      "Result 2 (53229630478972, 105945721566758, 52716091087786)\n",
      "Result 3 (53229630478934, 105945721566720, 52716091087786)\n",
      "-19.0 2 -38 (3, 53229630478934) (2, 53229630478972)\n",
      "Result 2801559498894 (8752731789778, 61468822877564, 52716091087786)\n",
      "Result 3262229593092 (1439241886430, 54155332974216, 52716091087786)\n",
      "Result 3337979166062 (236659508970, 52952750596756, 52716091087786)\n",
      "Result 3350434929692 (38914739558, 52755005827344, 52716091087786)\n",
      "Result 3352483073879 (6398884882, 52722489972668, 52716091087786)\n",
      "Result 3352819857293 (1052190726, 52717143278512, 52716091087786)\n",
      "Result 3352875235752 (173015392, 52716264103178, 52716091087786)\n",
      "Result 3352884341825 (28449484, 52716119537270, 52716091087786)\n",
      "Result 3352885839166 (4678082, 52716095765868, 52716091087786)\n",
      "Result 3352886085380 (769250, 52716091857036, 52716091087786)\n",
      "Result 3352886125866 (126496, 52716091214282, 52716091087786)\n",
      "Result 3352886132523 (20802, 52716091108588, 52716091087786)\n",
      "Result 3352886133617 (3436, 52716091091222, 52716091087786)\n",
      "Result 3352886133797 (570, 52716091088356, 52716091087786)\n",
      "Result 3352886133827 (92, 52716091087878, 52716091087786)\n",
      "Result 3352886133831 (0, 52716091087786, 52716091087786)\n"
     ]
    }
   ],
   "source": [
    "def part2(puzzle_input):\n",
    "    initial, _operators = read_input(puzzle_input)\n",
    "\n",
    "    ii = 1\n",
    "\n",
    "    # Figure out the sensitivity\n",
    "    history = []\n",
    "    sensitivity = None\n",
    "    while True:\n",
    "        state = {}\n",
    "        operators = copy.deepcopy(_operators)\n",
    "        for nn, vv in initial.items():\n",
    "            state[nn] = vv\n",
    "\n",
    "        state[\"humn\"] = ii\n",
    "        while len(operators) > 0:\n",
    "            for (xx, yy), (oo, ff) in list(operators.items()):\n",
    "                if xx in state and yy in state:\n",
    "                    if oo == \"root\":\n",
    "                        state[oo] = state[xx] - state[yy], state[xx], state[yy]\n",
    "                    else:\n",
    "                        state[oo] = ff(state[xx], state[yy])\n",
    "                    operators.pop((xx, yy))\n",
    "\n",
    "                if \"root\" in state:\n",
    "                    print(\"Result\", ii, state['root'])\n",
    "                    break\n",
    "\n",
    "        if state[\"root\"][0] == 0:\n",
    "            return ii\n",
    "\n",
    "        # 2 to 1 sensitivity\n",
    "        history.append((ii, state[\"root\"][0]))\n",
    "\n",
    "        if len(history) < 2:\n",
    "            ii += 1\n",
    "        elif history[-1][1] != history[0][1] and sensitivity is None:\n",
    "            x_delta = history[-1][0] -  history[0][0]\n",
    "            y_delta = history[-1][1] -  history[0][1]\n",
    "            sensitivity = y_delta / x_delta\n",
    "            print(sensitivity, x_delta, y_delta, history[-1], history[-2])\n",
    "            if sensitivity == 0:\n",
    "                ii += 1\n",
    "                sensitivity = None\n",
    "            else:\n",
    "                ii += int(-1*history[-1][1] / sensitivity)\n",
    "        elif sensitivity is not None:\n",
    "            delta = -1*history[-1][1] / sensitivity\n",
    "            if 0 <= delta < 1:\n",
    "                delta = 1\n",
    "            elif 0 > delta >= -1:\n",
    "                delta = 1\n",
    "            delta = int(delta)\n",
    "            ii += delta\n",
    "        else:\n",
    "            ii += 1\n",
    "    return None\n",
    "\n",
    "def test_part2():\n",
    "    ans = part2(os.path.join(os.path.join(\"..\", \"dat\", \"day21_test.txt\")))\n",
    "    print(ans)\n",
    "    #assert ans == 301\n",
    "\n",
    "test_part2()\n",
    "\n",
    "ns = part2(os.path.join(os.path.join(\"..\", \"dat\", \"day21.txt\")))#print(ans)"
   ]
  }
 ],
 "metadata": {
  "kernelspec": {
   "display_name": "Python 3",
   "language": "python",
   "name": "python3"
  },
  "language_info": {
   "codemirror_mode": {
    "name": "ipython",
    "version": 3
   },
   "file_extension": ".py",
   "mimetype": "text/x-python",
   "name": "python",
   "nbconvert_exporter": "python",
   "pygments_lexer": "ipython3",
   "version": "3.10.9"
  },
  "orig_nbformat": 4,
  "vscode": {
   "interpreter": {
    "hash": "cc2a200e1e6dab10c4dc3986f0e7a998296447c993c26561a1bd050a849d8214"
   }
  }
 },
 "nbformat": 4,
 "nbformat_minor": 2
}
