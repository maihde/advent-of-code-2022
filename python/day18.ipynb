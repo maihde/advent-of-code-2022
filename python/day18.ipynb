{
 "cells": [
  {
   "cell_type": "code",
   "execution_count": 1,
   "metadata": {},
   "outputs": [],
   "source": [
    "# Modules to support development\n",
    "import os\n",
    "import re\n",
    "import collections\n",
    "import itertools\n",
    "import functools\n",
    "import logging\n",
    "import pprint\n",
    "import numpy as np\n",
    "import heapq\n",
    "import copy"
   ]
  },
  {
   "cell_type": "code",
   "execution_count": 2,
   "metadata": {},
   "outputs": [
    {
     "name": "stdout",
     "output_type": "stream",
     "text": [
      "[3, 3, 6] [(2, 2, 2), (1, 2, 2), (3, 2, 2), (2, 1, 2), (2, 3, 2), (2, 2, 1), (2, 2, 3), (2, 2, 4), (2, 2, 6), (1, 2, 5), (3, 2, 5), (2, 1, 5), (2, 3, 5)]\n"
     ]
    }
   ],
   "source": [
    "def read_input(puzzle_input):\n",
    "    with open(puzzle_input) as ff:\n",
    "        dd = ff.readlines()\n",
    "\n",
    "    dimensions = [0,0,0]\n",
    "    droplets = []\n",
    "    for ll in dd:\n",
    "        coord = tuple([ int(xx) for xx in ll.strip().split(\",\") ])\n",
    "        droplets.append(coord)\n",
    "        dimensions[0] = max(dimensions[0], coord[0])\n",
    "        dimensions[1] = max(dimensions[1], coord[1])\n",
    "        dimensions[2] = max(dimensions[2], coord[2])\n",
    "\n",
    "\n",
    "    return dimensions, droplets\n",
    "\n",
    "def test_read_input():\n",
    "    dimensions, droplets = read_input(os.path.join(os.path.join(\"..\", \"dat\", \"day18_test.txt\")))\n",
    "    print(dimensions, droplets)\n",
    "\n",
    "test_read_input()"
   ]
  },
  {
   "cell_type": "code",
   "execution_count": 49,
   "metadata": {},
   "outputs": [
    {
     "name": "stdout",
     "output_type": "stream",
     "text": [
      "3542\n"
     ]
    }
   ],
   "source": [
    "def part1(puzzle_input):\n",
    "    dimensions, droplets = read_input(puzzle_input)\n",
    "    max_dimension = max(dimensions)\n",
    "\n",
    "    scan = np.full((max_dimension+2, max_dimension+2, max_dimension+2), fill_value=0)\n",
    "\n",
    "    for droplet in droplets:\n",
    "        # assume droplet is fully exposed\n",
    "        scan[droplet] = 6\n",
    "        # for all adjacent faces, if the surrounding cell is >= 0 then decrement both sides\n",
    "        for (zz,yy,xx) in ( (-1,0,0),(1,0,0),(0,-1,0),(0,1,0),(0,0,-1),(0,0,1) ):\n",
    "            test_coord = (droplet[0]-zz, droplet[1]-yy, droplet[2]-xx)\n",
    "            if scan[test_coord] > 0:\n",
    "                scan[test_coord] = scan[test_coord] - 1\n",
    "                scan[droplet] -= 1\n",
    "                #print(\"Adjacent\", test_coord, droplet, scan[test_coord], scan[droplet])\n",
    "    \n",
    "    ans = np.sum(scan[scan > 0])\n",
    "    return ans\n",
    "\n",
    "def test_part1():\n",
    "    ans = part1(os.path.join(os.path.join(\"..\", \"dat\", \"day18_test.txt\")))\n",
    "    #print(ans)\n",
    "    assert ans == 64\n",
    "\n",
    "test_part1()\n",
    "\n",
    "ans = part1(os.path.join(os.path.join(\"..\", \"dat\", \"day18.txt\")))\n",
    "print(ans)\n",
    "    "
   ]
  },
  {
   "cell_type": "code",
   "execution_count": 77,
   "metadata": {},
   "outputs": [
    {
     "name": "stdout",
     "output_type": "stream",
     "text": [
      "58\n",
      "58\n",
      "2080\n",
      "2080\n"
     ]
    }
   ],
   "source": [
    "def part2(puzzle_input):\n",
    "    dimensions, droplets = read_input(puzzle_input)\n",
    "    max_dimension = max(dimensions) + 4\n",
    "    scan = np.zeros((max_dimension, max_dimension, max_dimension))\n",
    "    result = np.zeros((max_dimension, max_dimension, max_dimension))\n",
    "\n",
    "    # offset everything by one so the algorithm doesn't have to \n",
    "    # deal with special cases where the lava is one the edge\n",
    "    for droplet in droplets:\n",
    "        scan[(droplet[0]+1, droplet[1]+1, droplet[2]+1)] = 6\n",
    "        \n",
    "    queue = collections.deque()\n",
    "    queue.append((0,0,0))\n",
    "    scan[(0,0,0)] = 1 # mark visited\n",
    "    faces = 0\n",
    "    while len(queue) > 0:\n",
    "        pos = queue.popleft()\n",
    "        for (zz,yy,xx) in ( (-1,0,0),(1,0,0),(0,-1,0),(0,1,0),(0,0,-1),(0,0,1) ):\n",
    "            testpos = (pos[0]+zz, pos[1]+yy, pos[2]+xx)\n",
    "            if not (0 <= testpos[0] < scan.shape[0]):\n",
    "                continue\n",
    "            if not (0 <= testpos[1] < scan.shape[1]):\n",
    "                continue\n",
    "            if not (0 <= testpos[2] < scan.shape[2]):\n",
    "                continue\n",
    "\n",
    "            if scan[testpos] == 6:\n",
    "                result[pos] += 1\n",
    "                assert result[pos] <= 5\n",
    "                faces += 1\n",
    "            elif scan[testpos] == 0:\n",
    "                queue.append(testpos)\n",
    "                scan[testpos] = 1 # mark visited\n",
    "        \n",
    "    print(faces)\n",
    "    ans = int(np.sum(result[result > 0]))\n",
    "    return ans\n",
    "\n",
    "def test_part2():\n",
    "    ans = part2(os.path.join(os.path.join(\"..\", \"dat\", \"day18_test.txt\")))\n",
    "    print(ans)\n",
    "    assert ans == 58\n",
    "\n",
    "test_part2()\n",
    "\n",
    "ans = part2(os.path.join(os.path.join(\"..\", \"dat\", \"day18.txt\")))\n",
    "print(ans) # not 2071\n",
    "    "
   ]
  }
 ],
 "metadata": {
  "kernelspec": {
   "display_name": "Python 3",
   "language": "python",
   "name": "python3"
  },
  "language_info": {
   "codemirror_mode": {
    "name": "ipython",
    "version": 3
   },
   "file_extension": ".py",
   "mimetype": "text/x-python",
   "name": "python",
   "nbconvert_exporter": "python",
   "pygments_lexer": "ipython3",
   "version": "3.10.9 (tags/v3.10.9:1dd9be6, Dec  6 2022, 20:01:21) [MSC v.1934 64 bit (AMD64)]"
  },
  "orig_nbformat": 4,
  "vscode": {
   "interpreter": {
    "hash": "cc2a200e1e6dab10c4dc3986f0e7a998296447c993c26561a1bd050a849d8214"
   }
  }
 },
 "nbformat": 4,
 "nbformat_minor": 2
}
