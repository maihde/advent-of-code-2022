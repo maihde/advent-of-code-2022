{
 "cells": [
  {
   "cell_type": "markdown",
   "metadata": {},
   "source": [
    "Advent of Code Python Notebook Template\n",
    "========================================"
   ]
  },
  {
   "cell_type": "code",
   "execution_count": 4,
   "metadata": {},
   "outputs": [],
   "source": [
    "# iPyTest allows us to solve AoC using test-driven development principals.\n",
    "import ipytest\n",
    "ipytest.autoconfig()"
   ]
  },
  {
   "cell_type": "code",
   "execution_count": 64,
   "metadata": {},
   "outputs": [],
   "source": [
    "# Modules to support development\n",
    "import os\n",
    "import re\n",
    "import collections\n",
    "import itertools\n",
    "import functools\n",
    "import logging\n",
    "import pprint"
   ]
  },
  {
   "cell_type": "code",
   "execution_count": null,
   "metadata": {},
   "outputs": [],
   "source": [
    "def read_puzzle_input(fname, multiline=None):\n",
    "    \"\"\"\n",
    "    Reads Advent of Code input files.  By default, if the input\n",
    "    file has multiple lines an array of file-lines (stripped of leading\n",
    "    and trailing whitespace) will be returned.  If the input has\n",
    "    only one line of data, a single stripped line will be returned.\n",
    "\n",
    "    This approach would not necessarily be appropriate outside of AoC\n",
    "    problem sets\n",
    "    \"\"\"\n",
    "\n",
    "    # Files as assumed to be in a dat folder one-level above,\n",
    "    # you can change this to your preference.\n",
    "    filepath = os.path.join(\"..\", \"dat\", fname)\n",
    "    \n",
    "    with open(filepath) as f:\n",
    "        indat = f.readlines()\n",
    "\n",
    "    if multiline is True:\n",
    "        # if multiline hasn't been forced, infer behavior\n",
    "        # based on the number of lines in the input\n",
    "        return [ x.strip() for x in indat ]\n",
    "\n",
    "    # By default, assume\n",
    "    if len(indat) == 1:\n",
    "        return indat[0]"
   ]
  },
  {
   "cell_type": "markdown",
   "metadata": {},
   "source": [
    "Part 1\n",
    "======"
   ]
  },
  {
   "cell_type": "code",
   "execution_count": 103,
   "metadata": {},
   "outputs": [
    {
     "data": {
      "text/plain": [
       "1513699"
      ]
     },
     "execution_count": 103,
     "metadata": {},
     "output_type": "execute_result"
    },
    {
     "name": "stdout",
     "output_type": "stream",
     "text": [
      "\u001b[32m.\u001b[0m\u001b[32m                                                                                            [100%]\u001b[0m\n",
      "\u001b[32m\u001b[32m\u001b[1m1 passed\u001b[0m\u001b[32m in 0.01s\u001b[0m\u001b[0m\n"
     ]
    }
   ],
   "source": [
    "%%ipytest\n",
    "\n",
    "logging.getLogger().setLevel(logging.DEBUG)\n",
    "\n",
    "def recursize_size(path, curdir, accumulator):\n",
    "    total_size = 0\n",
    "    for xx, yy in curdir.items():\n",
    "        if isinstance(yy, dict):\n",
    "            _size = recursize_size(path + [ xx ], yy, accumulator)\n",
    "            total_size += _size\n",
    "        elif not (xx.startswith(\"__\") and xx.endswith(\"__\")):\n",
    "            total_size += yy\n",
    "\n",
    "    accumulator.append((path, total_size))\n",
    "    \n",
    "    return total_size\n",
    "\n",
    "def part1(puzzle_input):\n",
    "    if not os.path.exists(puzzle_input):\n",
    "        return\n",
    "\n",
    "    answer = 0\n",
    "\n",
    "    with open(puzzle_input) as ff:\n",
    "        dd = [ xx.strip() for xx in ff.readlines() ]\n",
    "\n",
    "    ###############################################################################################################\n",
    "    dirstk = [ \"/\" ]\n",
    "    dirs = {\"/\": {}}\n",
    "    curdir = dirs[dirstk[-1]]\n",
    "\n",
    "    ii = 0\n",
    "    while ii < len(dd):\n",
    "        ll = dd[ii]\n",
    "        \n",
    "        cmd = re.match(\"\\$ (\\w+)(?:\\s)?(\\S*)?\", ll)\n",
    "        \n",
    "        if cmd:\n",
    "            if cmd.group(1) == \"cd\":\n",
    "                ii += 1\n",
    "                if cmd.group(2) == \"/\":\n",
    "                    dirstk = [ \"/\" ]\n",
    "                elif cmd.group(2) == \"..\" and len(dirstk) > 1:\n",
    "                    dirstk.pop()\n",
    "                else:\n",
    "                    dirstk.append(cmd.group(2))\n",
    "                curdir = dirs\n",
    "                for dname in dirstk:\n",
    "                    #curdir = dirs.setdefault(dname, {\"__name__\": dname})\n",
    "                    curdir = curdir[dname]\n",
    "\n",
    "            elif cmd.group(1) == \"ls\":\n",
    "                ii += 1\n",
    "                while ii < len(dd) and dd[ii][0] != \"$\":\n",
    "                    ll = dd[ii]\n",
    "                    ii += 1\n",
    "                    \n",
    "                    is_dir = re.match(\"dir (\\S+)\", ll)\n",
    "                    is_file = re.match(\"(\\d+) (\\S+)\", ll)\n",
    "\n",
    "                    if is_dir:\n",
    "                        dname = is_dir.group(1)\n",
    "                        curdir.setdefault(dname, {\"__name__\": dname})\n",
    "                    elif is_file:\n",
    "                        fsize, fname = is_file.groups()\n",
    "                        fsize = int(fsize)\n",
    "                        curdir[fname] = fsize\n",
    "\n",
    "    #logging.debug(pprint.pformat(dirs))\n",
    "\n",
    "    accum = []\n",
    "    recursize_size( [ ], dirs, accum)\n",
    "\n",
    "    #logging.debug(pprint.pformat(accum))\n",
    "    #pprint.pprint(dirs)\n",
    "    #pprint.pprint(accum)\n",
    "\n",
    "    for pp, ss in accum:\n",
    "        if ss < 100000:\n",
    "            answer += ss\n",
    "\n",
    "\n",
    "    # TODO - place solution code here\n",
    "    \n",
    "    ###############################################################################################################\n",
    "    \n",
    "    return answer\n",
    "\n",
    "def test_part1():\n",
    "    assert part1(os.path.join(\"..\", \"dat\", \"day7_test.txt\")) == 95437\n",
    "    \n",
    "    \n",
    "part1(os.path.join(\"..\", \"dat\", \"day7.txt\"))"
   ]
  },
  {
   "cell_type": "code",
   "execution_count": 121,
   "metadata": {},
   "outputs": [
    {
     "data": {
      "text/plain": [
       "7991939"
      ]
     },
     "execution_count": 121,
     "metadata": {},
     "output_type": "execute_result"
    },
    {
     "name": "stdout",
     "output_type": "stream",
     "text": [
      "\u001b[32m.\u001b[0m\u001b[32m                                                                                            [100%]\u001b[0m\n",
      "\u001b[32m\u001b[32m\u001b[1m1 passed\u001b[0m\u001b[32m in 0.01s\u001b[0m\u001b[0m\n"
     ]
    }
   ],
   "source": [
    "%%ipytest\n",
    "\n",
    "logging.getLogger().setLevel(logging.DEBUG)\n",
    "\n",
    "def recursize_size(path, curdir, accumulator):\n",
    "    total_size = 0\n",
    "    for xx, yy in curdir.items():\n",
    "        if isinstance(yy, dict):\n",
    "            _size = recursize_size(path + [ xx ], yy, accumulator)\n",
    "            total_size += _size\n",
    "        elif not (xx.startswith(\"__\") and xx.endswith(\"__\")):\n",
    "            total_size += yy\n",
    "\n",
    "    accumulator.append((path, total_size))\n",
    "    \n",
    "    return total_size\n",
    "\n",
    "def part2(puzzle_input):\n",
    "    if not os.path.exists(puzzle_input):\n",
    "        return\n",
    "\n",
    "    answer = 0\n",
    "\n",
    "    with open(puzzle_input) as ff:\n",
    "        dd = [ xx.strip() for xx in ff.readlines() ]\n",
    "\n",
    "    ###############################################################################################################\n",
    "    dirstk = [ \"/\" ]\n",
    "    dirs = {\"/\": {}}\n",
    "    curdir = dirs[dirstk[-1]]\n",
    "\n",
    "    ii = 0\n",
    "    while ii < len(dd):\n",
    "        ll = dd[ii]\n",
    "        \n",
    "        cmd = re.match(\"\\$ (\\w+)(?:\\s)?(\\S*)?\", ll)\n",
    "        \n",
    "        if cmd:\n",
    "            if cmd.group(1) == \"cd\":\n",
    "                ii += 1\n",
    "                if cmd.group(2) == \"/\":\n",
    "                    dirstk = [ \"/\" ]\n",
    "                elif cmd.group(2) == \"..\" and len(dirstk) > 1:\n",
    "                    dirstk.pop()\n",
    "                else:\n",
    "                    dirstk.append(cmd.group(2))\n",
    "                curdir = dirs\n",
    "                for dname in dirstk:\n",
    "                    #curdir = dirs.setdefault(dname, {\"__name__\": dname})\n",
    "                    curdir = curdir[dname]\n",
    "\n",
    "            elif cmd.group(1) == \"ls\":\n",
    "                ii += 1\n",
    "                while ii < len(dd) and dd[ii][0] != \"$\":\n",
    "                    ll = dd[ii]\n",
    "                    ii += 1\n",
    "                    \n",
    "                    is_dir = re.match(\"dir (\\S+)\", ll)\n",
    "                    is_file = re.match(\"(\\d+) (\\S+)\", ll)\n",
    "\n",
    "                    if is_dir:\n",
    "                        dname = is_dir.group(1)\n",
    "                        curdir.setdefault(dname, {\"__name__\": dname})\n",
    "                    elif is_file:\n",
    "                        fsize, fname = is_file.groups()\n",
    "                        fsize = int(fsize)\n",
    "                        curdir[fname] = fsize\n",
    "\n",
    "    accum = []\n",
    "    total_size = recursize_size( [ ], dirs, accum)\n",
    "\n",
    "    disk_size = 70000000\n",
    "    space_avail = disk_size - total_size\n",
    "    space_needed = 30000000 - space_avail \n",
    "    \n",
    "    answer = total_size\n",
    "    for pp, ss in accum:\n",
    "        if ss > space_needed and ss < answer:\n",
    "            answer = ss\n",
    "    \n",
    "    ###############################################################################################################\n",
    "    \n",
    "    return answer\n",
    "\n",
    "def test_part2():\n",
    "    assert part2(os.path.join(\"..\", \"dat\", \"day7_test.txt\")) == 24933642\n",
    "    \n",
    "    \n",
    "part2(os.path.join(\"..\", \"dat\", \"day7.txt\"))"
   ]
  }
 ],
 "metadata": {
  "kernelspec": {
   "display_name": "Python 3.10.8 64-bit (microsoft store)",
   "language": "python",
   "name": "python3"
  },
  "language_info": {
   "codemirror_mode": {
    "name": "ipython",
    "version": 3
   },
   "file_extension": ".py",
   "mimetype": "text/x-python",
   "name": "python",
   "nbconvert_exporter": "python",
   "pygments_lexer": "ipython3",
   "version": "3.10.8"
  },
  "orig_nbformat": 4,
  "vscode": {
   "interpreter": {
    "hash": "a39f6c2249073c5c92ee04c8c63e216469c6dfa3b30ca9a1923d98708a4eabe1"
   }
  }
 },
 "nbformat": 4,
 "nbformat_minor": 2
}
