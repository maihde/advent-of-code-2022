{
 "cells": [
  {
   "cell_type": "code",
   "execution_count": 1,
   "metadata": {},
   "outputs": [],
   "source": [
    "# iPyTest allows us to solve AoC using test-driven development principals.\n",
    "import ipytest\n",
    "ipytest.autoconfig(addopts=['--color=no'])"
   ]
  },
  {
   "cell_type": "code",
   "execution_count": 2,
   "metadata": {},
   "outputs": [],
   "source": [
    "# Modules to support development\n",
    "import os\n",
    "import re\n",
    "import collections\n",
    "import itertools\n",
    "import functools\n",
    "import logging\n",
    "import pprint\n",
    "import numpy as np\n",
    "import heapq\n",
    "from scipy.sparse import csr_matrix\n",
    "from scipy.sparse.csgraph import shortest_path"
   ]
  },
  {
   "cell_type": "code",
   "execution_count": 21,
   "metadata": {},
   "outputs": [
    {
     "name": "stdout",
     "output_type": "stream",
     "text": [
      "======================================= test session starts =======================================\n",
      "platform win32 -- Python 3.10.9, pytest-7.2.0, pluggy-1.0.0\n",
      "rootdir: c:\\Users\\MichaelIhde\\Git\\advent-of-code-2022\\python\n",
      "collected 1 item\n",
      "\n",
      "t_a697b4ab3c4a4ef484904559ba5633ef.py .                                                      [100%]\n",
      "\n",
      "======================================== 1 passed in 0.01s ========================================\n"
     ]
    }
   ],
   "source": [
    "%%ipytest\n",
    "\n",
    "def compare(left, right):\n",
    "    if not isinstance(left, list):\n",
    "        left = [ left ]\n",
    "    if not isinstance(right, list):\n",
    "        right = [ right ]\n",
    "\n",
    "    ii = 0\n",
    "    res = 0\n",
    "    while res == 0 and ii < len(left) and ii < len(right):\n",
    "        \n",
    "        ll = left[ii]\n",
    "        rr = right[ii]\n",
    "        ii += 1\n",
    "\n",
    "        #print(f\"Compare {ii}: {ll} {rr}\")\n",
    "\n",
    "        if isinstance(ll, list) or isinstance(rr, list):\n",
    "            res = compare(ll, rr)\n",
    "        elif ll < rr:\n",
    "            res = -1\n",
    "        elif ll > rr:\n",
    "            res = 1\n",
    "    \n",
    "    if res == 0 and len(left) < len(right):\n",
    "        return -1\n",
    "    elif res == 0 and len(left) > len(right):\n",
    "        return 1\n",
    "\n",
    "    return res\n",
    "\n",
    "def test_compare():\n",
    "    assert compare([], [3]) == -1\n",
    "    assert compare([7,7,7,7], [7,7,7]) == 1\n",
    "\n",
    "    assert compare([1,1,3,1,1], [1,1,3,1,1]) == 0\n",
    "    assert compare([1,1,5,1,1], [1,1,5,1,1]) == 0\n",
    "    assert compare([1,1,3,1,1], [1,1,5,1,1]) == -1\n",
    "    assert compare([1,1,5,1,1], [1,1,3,1,1]) == 1\n",
    "\n",
    "    assert compare([[1],[2,3,4]], [[1],[2,3,4]]) == 0\n",
    "    assert compare([[1],4], [[1],4]) == 0\n",
    "    assert compare([[1],[2,3,4]], [[1],4]) == -1\n",
    "    assert compare([[1],4], [[1],[2,3,4]]) == 1\n",
    "\n",
    "    assert compare([9], [9]) == 0\n",
    "    assert compare([[8,7,6]], [[8,7,6]]) == 0\n",
    "    assert compare([9], [[8,7,6]]) == 1\n",
    "    assert compare([[8,7,6]], [9]) == -1\n",
    "\n",
    "    assert compare([[4,4],4,4], [[4,4],4,4]) == 0\n",
    "    assert compare([[4,4],4,4,4], [[4,4],4,4,4]) == 0\n",
    "    assert compare([[4,4],4,4], [[4,4],4,4,4]) == -1\n",
    "    assert compare([[4,4],4,4,4], [[4,4],4,4]) == 1\n",
    "\n",
    "    assert compare([[[]]], [[]]) == 1\n",
    "\n",
    "    assert compare([1,[2,[3,[4,[5,6,7]]]],8,9], [1,[2,[3,[4,[5,6,0]]]],8,9]) == 1\n",
    "    "
   ]
  },
  {
   "cell_type": "code",
   "execution_count": 30,
   "metadata": {},
   "outputs": [
    {
     "name": "stdout",
     "output_type": "stream",
     "text": [
      "4821\n",
      "======================================= test session starts =======================================\n",
      "platform win32 -- Python 3.10.9, pytest-7.2.0, pluggy-1.0.0\n",
      "rootdir: c:\\Users\\MichaelIhde\\Git\\advent-of-code-2022\\python\n",
      "collected 1 item\n",
      "\n",
      "t_a697b4ab3c4a4ef484904559ba5633ef.py .                                                      [100%]\n",
      "\n",
      "======================================== 1 passed in 0.01s ========================================\n"
     ]
    }
   ],
   "source": [
    "%%ipytest\n",
    "\n",
    "\n",
    "def part1(puzzle_input):\n",
    "    with open(puzzle_input) as f:\n",
    "        dd = f.readlines()\n",
    "\n",
    "    idx = 1\n",
    "    left = None\n",
    "    right = None\n",
    "\n",
    "    indices = []\n",
    "    for ii, ll in enumerate(dd):\n",
    "        if ll.strip() == \"\":\n",
    "            res = compare(left, right)\n",
    "            if res == -1:\n",
    "                indices.append(idx)\n",
    "\n",
    "            idx += 1\n",
    "            left = None\n",
    "            right = None\n",
    "        elif left == None:\n",
    "            left = eval(ll)\n",
    "        elif right == None:\n",
    "            right = eval(ll)\n",
    "\n",
    "    return sum(indices)\n",
    "\n",
    "\n",
    "def test_part1():\n",
    "    answer = part1(os.path.join(\"..\", \"dat\", \"day13_test.txt\"))\n",
    "    assert answer == 13\n",
    "       \n",
    "answer = part1(os.path.join(\"..\", \"dat\", \"day13.txt\"))\n",
    "print(answer)"
   ]
  },
  {
   "cell_type": "code",
   "execution_count": 41,
   "metadata": {},
   "outputs": [
    {
     "name": "stdout",
     "output_type": "stream",
     "text": [
      "(110, 199)\n",
      "21890\n",
      "======================================= test session starts =======================================\n",
      "platform win32 -- Python 3.10.9, pytest-7.2.0, pluggy-1.0.0\n",
      "rootdir: c:\\Users\\MichaelIhde\\Git\\advent-of-code-2022\\python\n",
      "collected 1 item\n",
      "\n",
      "t_a697b4ab3c4a4ef484904559ba5633ef.py .                                                      [100%]\n",
      "\n",
      "======================================== 1 passed in 0.01s ========================================\n"
     ]
    }
   ],
   "source": [
    "%%ipytest\n",
    "\n",
    "\n",
    "def part2(puzzle_input):\n",
    "    with open(puzzle_input) as f:\n",
    "        dd = f.readlines()\n",
    "\n",
    "    packets = []\n",
    "    for ll in dd:\n",
    "        if ll.strip() == \"\":\n",
    "            continue\n",
    "        packets.append(eval(ll))\n",
    "\n",
    "    packets.sort(key=functools.cmp_to_key(compare))\n",
    "\n",
    "    ii = 0\n",
    "    ans = (0, 0)\n",
    "    while ii < len(packets) and (ans[0] == 0 or ans[1] == 0):\n",
    "        if ans[0] == 0 and compare([[2]], packets[ii]) == -1:\n",
    "            ans = ii + 1, 0\n",
    "        elif ans[1] == 0 and compare([[6]], packets[ii]) == -1:\n",
    "            ans = ans[0], ii + 2\n",
    "\n",
    "        ii += 1\n",
    "\n",
    "    print(ans)\n",
    "    return ans[0] * ans[1]\n",
    "\n",
    "def test_part2():\n",
    "    answer = part2(os.path.join(\"..\", \"dat\", \"day13_test.txt\"))\n",
    "    assert answer == 140\n",
    "       \n",
    "answer = part2(os.path.join(\"..\", \"dat\", \"day13.txt\"))\n",
    "print(answer)"
   ]
  }
 ],
 "metadata": {
  "kernelspec": {
   "display_name": "Python 3",
   "language": "python",
   "name": "python3"
  },
  "language_info": {
   "codemirror_mode": {
    "name": "ipython",
    "version": 3
   },
   "file_extension": ".py",
   "mimetype": "text/x-python",
   "name": "python",
   "nbconvert_exporter": "python",
   "pygments_lexer": "ipython3",
   "version": "3.10.9 (tags/v3.10.9:1dd9be6, Dec  6 2022, 20:01:21) [MSC v.1934 64 bit (AMD64)]"
  },
  "orig_nbformat": 4,
  "vscode": {
   "interpreter": {
    "hash": "a39f6c2249073c5c92ee04c8c63e216469c6dfa3b30ca9a1923d98708a4eabe1"
   }
  }
 },
 "nbformat": 4,
 "nbformat_minor": 2
}
