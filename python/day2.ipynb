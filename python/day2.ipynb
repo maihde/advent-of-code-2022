{
 "cells": [
  {
   "cell_type": "code",
   "execution_count": 14,
   "metadata": {},
   "outputs": [],
   "source": [
    "import ipytest\n",
    "import os\n",
    "ipytest.autoconfig()"
   ]
  },
  {
   "cell_type": "code",
   "execution_count": 31,
   "metadata": {},
   "outputs": [
    {
     "data": {
      "text/plain": [
       "15691"
      ]
     },
     "execution_count": 31,
     "metadata": {},
     "output_type": "execute_result"
    },
    {
     "name": "stdout",
     "output_type": "stream",
     "text": [
      "\u001b[32m.\u001b[0m\u001b[32m                                                                                            [100%]\u001b[0m\n",
      "\u001b[32m\u001b[32m\u001b[1m1 passed\u001b[0m\u001b[32m in 0.01s\u001b[0m\u001b[0m\n"
     ]
    }
   ],
   "source": [
    "%%ipytest\n",
    "\n",
    "def score(playA, playB):\n",
    "    aa = xlate.get(playA, playA)\n",
    "    bb = xlate.get(playB, playB)\n",
    "\n",
    "    score = 0\n",
    "    if aa == bb:\n",
    "        score = 3\n",
    "    elif aa == \"S\" and bb == \"R\":\n",
    "        score = 6\n",
    "    elif aa == \"R\" and bb == \"P\":\n",
    "        score = 6\n",
    "    elif aa == \"P\" and bb == \"S\":\n",
    "        score = 6\n",
    "    return score + points[bb]\n",
    "\n",
    "xlate = {\n",
    "        \"A\": \"R\",\n",
    "        \"B\": \"P\",\n",
    "        \"C\": \"S\", \n",
    "        \"X\": \"R\",\n",
    "        \"Y\": \"P\",\n",
    "        \"Z\": \"S\",\n",
    "}\n",
    "\n",
    "points = {\n",
    "    \"R\": 1,\n",
    "    \"P\": 2,\n",
    "    \"S\": 3\n",
    "}\n",
    "\n",
    "def part1(infile):\n",
    "    filepath = os.path.join(\"..\", \"dat\", infile)\n",
    "    if not os.path.exists(filepath):\n",
    "        print(f\"Skipping {filepath}\")\n",
    "        return\n",
    "\n",
    "    with open(filepath) as f:\n",
    "        dd = f.readlines()\n",
    "\n",
    "    total = 0\n",
    "    for ll in dd:\n",
    "        playA, playB = ll.split()\n",
    "        total += score(playA, playB)\n",
    "\n",
    "    return total\n",
    "\n",
    "def test_part1():\n",
    "    assert part1(\"day2_test.txt\") == 15\n",
    "\n",
    "part1(\"day2.txt\")"
   ]
  },
  {
   "cell_type": "code",
   "execution_count": 32,
   "metadata": {},
   "outputs": [
    {
     "data": {
      "text/plain": [
       "12989"
      ]
     },
     "execution_count": 32,
     "metadata": {},
     "output_type": "execute_result"
    }
   ],
   "source": [
    "def part2(infile):\n",
    "    global xlate, points\n",
    "\n",
    "    filepath = os.path.join(\"..\", \"dat\", infile)\n",
    "    if not os.path.exists(filepath):\n",
    "        print(f\"Skipping {filepath}\")\n",
    "        return\n",
    "\n",
    "    with open(filepath) as f:\n",
    "        dd = f.readlines()\n",
    "\n",
    "    total = 0\n",
    "    for ll in dd:\n",
    "        playA, playB = ll.split()\n",
    "\n",
    "        aa = xlate.get(playA)\n",
    "    \n",
    "        if playB == \"X\": # lose\n",
    "            bb = dict(R=\"S\", S=\"P\", P=\"R\").get(aa)\n",
    "        elif playB == \"Y\": # draw\n",
    "            bb = aa\n",
    "        elif playB == \"Z\": # win\n",
    "            bb = dict(R=\"P\", S=\"R\", P=\"S\").get(aa)\n",
    "            \n",
    "        total += score(aa, bb)\n",
    "    return total\n",
    "\n",
    "def test_part2():\n",
    "    assert part2(\"day2_test.txt\") == 12\n",
    "\n",
    "part2(\"day2.txt\")"
   ]
  }
 ],
 "metadata": {
  "kernelspec": {
   "display_name": "Python 3.10.8 64-bit (microsoft store)",
   "language": "python",
   "name": "python3"
  },
  "language_info": {
   "codemirror_mode": {
    "name": "ipython",
    "version": 3
   },
   "file_extension": ".py",
   "mimetype": "text/x-python",
   "name": "python",
   "nbconvert_exporter": "python",
   "pygments_lexer": "ipython3",
   "version": "3.10.8"
  },
  "orig_nbformat": 4,
  "vscode": {
   "interpreter": {
    "hash": "e0acaf148705ed9ed86cc5cad12259d7985e30670e5686e5f55604a9b3b84a55"
   }
  }
 },
 "nbformat": 4,
 "nbformat_minor": 2
}
