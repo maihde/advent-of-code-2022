{
 "cells": [
  {
   "cell_type": "code",
   "execution_count": 21,
   "metadata": {},
   "outputs": [],
   "source": [
    "import ipytest\n",
    "import os\n",
    "ipytest.autoconfig()"
   ]
  },
  {
   "cell_type": "code",
   "execution_count": 22,
   "metadata": {},
   "outputs": [
    {
     "data": {
      "text/plain": [
       "69693"
      ]
     },
     "execution_count": 22,
     "metadata": {},
     "output_type": "execute_result"
    },
    {
     "name": "stdout",
     "output_type": "stream",
     "text": [
      "\u001b[32m.\u001b[0m\u001b[32m                                                                                            [100%]\u001b[0m\n",
      "\u001b[32m\u001b[32m\u001b[1m1 passed\u001b[0m\u001b[32m in 0.01s\u001b[0m\u001b[0m\n"
     ]
    }
   ],
   "source": [
    "%%ipytest\n",
    "\n",
    "def part1(infile):\n",
    "    filepath = os.path.join(\"..\", \"dat\", infile)\n",
    "    if not os.path.exists(filepath):\n",
    "        print(f\"Skipping {filepath}\")\n",
    "        return\n",
    "\n",
    "    with open(filepath) as f:\n",
    "        dd = f.readlines()\n",
    "\n",
    "    elves = {}\n",
    "    elf = 0\n",
    "    for ll in dd:\n",
    "        if ll.strip() == \"\":\n",
    "            elf += 1\n",
    "            continue\n",
    "        elves[elf] = elves.get(elf, 0) + int(ll)\n",
    "\n",
    "    top_elf = sorted(elves.items(), key=lambda x: x[1], reverse=True)[0]\n",
    "    return top_elf[1]\n",
    "\n",
    "def test_part1():\n",
    "    assert part1(\"day1_test.txt\") == 24000\n",
    "\n",
    "part1(\"day1.txt\")"
   ]
  },
  {
   "cell_type": "code",
   "execution_count": 23,
   "metadata": {},
   "outputs": [
    {
     "data": {
      "text/plain": [
       "200945"
      ]
     },
     "execution_count": 23,
     "metadata": {},
     "output_type": "execute_result"
    },
    {
     "name": "stdout",
     "output_type": "stream",
     "text": [
      "\u001b[32m.\u001b[0m\u001b[32m                                                                                            [100%]\u001b[0m\n",
      "\u001b[32m\u001b[32m\u001b[1m1 passed\u001b[0m\u001b[32m in 0.01s\u001b[0m\u001b[0m\n"
     ]
    }
   ],
   "source": [
    "%%ipytest\n",
    "\n",
    "def part2(infile):\n",
    "    filepath = os.path.join(\"..\", \"dat\", infile)\n",
    "    if not os.path.exists(filepath):\n",
    "        print(f\"Skipping {filepath}\")\n",
    "        return\n",
    "\n",
    "    with open(filepath) as f:\n",
    "        dd = f.readlines()\n",
    "\n",
    "    elves = {}\n",
    "    elf = 0\n",
    "    for ll in dd:\n",
    "        if ll.strip() == \"\":\n",
    "            elf += 1\n",
    "            continue\n",
    "        elves[elf] = elves.get(elf, 0) + int(ll)\n",
    "\n",
    "    top_three_elf = sorted(elves.items(), key=lambda x: x[1], reverse=True)[0:3]\n",
    "    result = sum([ x[1] for x in top_three_elf ])\n",
    "\n",
    "    return result\n",
    "\n",
    "def test_part2():\n",
    "    assert part2(\"day1_test.txt\") == 45000\n",
    "\n",
    "part2(\"day1.txt\")"
   ]
  }
 ],
 "metadata": {
  "kernelspec": {
   "display_name": "Python 3.10.8 64-bit (microsoft store)",
   "language": "python",
   "name": "python3"
  },
  "language_info": {
   "codemirror_mode": {
    "name": "ipython",
    "version": 3
   },
   "file_extension": ".py",
   "mimetype": "text/x-python",
   "name": "python",
   "nbconvert_exporter": "python",
   "pygments_lexer": "ipython3",
   "version": "3.10.8"
  },
  "orig_nbformat": 4,
  "vscode": {
   "interpreter": {
    "hash": "e0acaf148705ed9ed86cc5cad12259d7985e30670e5686e5f55604a9b3b84a55"
   }
  }
 },
 "nbformat": 4,
 "nbformat_minor": 2
}
