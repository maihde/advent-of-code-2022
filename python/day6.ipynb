{
 "cells": [
  {
   "cell_type": "code",
   "execution_count": 14,
   "metadata": {},
   "outputs": [],
   "source": [
    "import ipytest\n",
    "import os\n",
    "import re\n",
    "import collections\n",
    "ipytest.autoconfig()"
   ]
  },
  {
   "cell_type": "code",
   "execution_count": 15,
   "metadata": {},
   "outputs": [
    {
     "data": {
      "text/plain": [
       "1707"
      ]
     },
     "execution_count": 15,
     "metadata": {},
     "output_type": "execute_result"
    },
    {
     "name": "stdout",
     "output_type": "stream",
     "text": [
      "\u001b[32m.\u001b[0m\u001b[32m                                                                                            [100%]\u001b[0m\n",
      "\u001b[32m\u001b[32m\u001b[1m1 passed\u001b[0m\u001b[32m in 0.01s\u001b[0m\u001b[0m\n"
     ]
    }
   ],
   "source": [
    "%%ipytest\n",
    "\n",
    "def part1(infile, instr=None):\n",
    "    if instr is None:\n",
    "        filepath = os.path.join(\"..\", \"dat\", infile)\n",
    "        if not os.path.exists(filepath):\n",
    "            print(f\"Skipping {filepath}\")\n",
    "            return\n",
    "\n",
    "        with open(filepath) as f:\n",
    "            instr = f.readline()\n",
    "\n",
    "    answer = 0\n",
    "\n",
    "    ###############################################################################################################\n",
    "    qq = collections.deque()\n",
    "    for ii, cc in enumerate(instr):\n",
    "        qq.append(cc)\n",
    "        if len(qq) > 4:\n",
    "            qq.popleft()\n",
    "        if len(set(qq)) == 4:\n",
    "            answer = ii + 1 # the answer is one-index vs zero-index\n",
    "            break\n",
    "\n",
    "    ###############################################################################################################\n",
    "    \n",
    "    return answer\n",
    "\n",
    "def test_part1():\n",
    "    assert part1(None, \"mjqjpqmgbljsphdztnvjfqwrcgsmlb\") == 7\n",
    "    assert part1(None, \"bvwbjplbgvbhsrlpgdmjqwftvncz\") == 5\n",
    "    assert part1(None, \"nppdvjthqldpwncqszvftbrmjlhg\") == 6\n",
    "    assert part1(None, \"nznrnfrfntjfmvfwmzdfjlvtqnbhcprsg\") == 10\n",
    "    assert part1(None, \"zcfzfwzzqfrljwzlrfnpqdbhtmscgvjw\") == 11\n",
    "\n",
    "\n",
    "part1(\"day6.txt\")"
   ]
  },
  {
   "cell_type": "code",
   "execution_count": 16,
   "metadata": {},
   "outputs": [
    {
     "data": {
      "text/plain": [
       "3697"
      ]
     },
     "execution_count": 16,
     "metadata": {},
     "output_type": "execute_result"
    },
    {
     "name": "stdout",
     "output_type": "stream",
     "text": [
      "\u001b[32m.\u001b[0m\u001b[32m                                                                                            [100%]\u001b[0m\n",
      "\u001b[32m\u001b[32m\u001b[1m1 passed\u001b[0m\u001b[32m in 0.01s\u001b[0m\u001b[0m\n"
     ]
    }
   ],
   "source": [
    "%%ipytest\n",
    "\n",
    "def part2(infile, instr=None):\n",
    "    if instr is None:\n",
    "        filepath = os.path.join(\"..\", \"dat\", infile)\n",
    "        if not os.path.exists(filepath):\n",
    "            print(f\"Skipping {filepath}\")\n",
    "            return\n",
    "\n",
    "        with open(filepath) as f:\n",
    "            instr = f.readline()\n",
    "\n",
    "    answer = 0\n",
    "\n",
    "    ###############################################################################################################\n",
    "    qq = collections.deque()\n",
    "    for ii, cc in enumerate(instr):\n",
    "        qq.append(cc)\n",
    "        if len(qq) > 14:\n",
    "            qq.popleft()\n",
    "        if len(set(qq)) == 14:\n",
    "            answer = ii + 1 # the answer is one-index vs zero-index\n",
    "            break\n",
    "\n",
    "    ###############################################################################################################\n",
    "    \n",
    "    return answer\n",
    "\n",
    "def test_part2():\n",
    "    assert part2(None, \"mjqjpqmgbljsphdztnvjfqwrcgsmlb\") == 19\n",
    "    assert part2(None, \"bvwbjplbgvbhsrlpgdmjqwftvncz\") == 23\n",
    "    assert part2(None, \"nppdvjthqldpwncqszvftbrmjlhg\") == 23\n",
    "    assert part2(None, \"nznrnfrfntjfmvfwmzdfjlvtqnbhcprsg\") == 29\n",
    "    assert part2(None, \"zcfzfwzzqfrljwzlrfnpqdbhtmscgvjw\") == 26\n",
    "\n",
    "\n",
    "part2(\"day6.txt\")"
   ]
  }
 ],
 "metadata": {
  "kernelspec": {
   "display_name": "Python 3.10.8 64-bit (microsoft store)",
   "language": "python",
   "name": "python3"
  },
  "language_info": {
   "codemirror_mode": {
    "name": "ipython",
    "version": 3
   },
   "file_extension": ".py",
   "mimetype": "text/x-python",
   "name": "python",
   "nbconvert_exporter": "python",
   "pygments_lexer": "ipython3",
   "version": "3.10.8"
  },
  "orig_nbformat": 4,
  "vscode": {
   "interpreter": {
    "hash": "a39f6c2249073c5c92ee04c8c63e216469c6dfa3b30ca9a1923d98708a4eabe1"
   }
  }
 },
 "nbformat": 4,
 "nbformat_minor": 2
}
