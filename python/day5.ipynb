{
 "cells": [
  {
   "cell_type": "code",
   "execution_count": 1,
   "metadata": {},
   "outputs": [],
   "source": [
    "import ipytest\n",
    "import os\n",
    "import re\n",
    "ipytest.autoconfig()"
   ]
  },
  {
   "cell_type": "code",
   "execution_count": 18,
   "metadata": {},
   "outputs": [
    {
     "data": {
      "text/plain": [
       "'FWNSHLDNZ'"
      ]
     },
     "execution_count": 18,
     "metadata": {},
     "output_type": "execute_result"
    },
    {
     "name": "stdout",
     "output_type": "stream",
     "text": [
      "\u001b[32m.\u001b[0m\u001b[32m                                                                                            [100%]\u001b[0m\n",
      "\u001b[32m\u001b[32m\u001b[1m1 passed\u001b[0m\u001b[32m in 0.01s\u001b[0m\u001b[0m\n"
     ]
    }
   ],
   "source": [
    "%%ipytest\n",
    "\n",
    "def load_stacks(lines):\n",
    "    stacks = {}\n",
    "    for ln, ll in enumerate(lines):\n",
    "        if ll.strip() == \"\":\n",
    "            break\n",
    "\n",
    "        last = None\n",
    "        for ii, cc in enumerate(ll):\n",
    "            if 65 <= ord(cc) <= 90:\n",
    "                stacks.setdefault(ii, []).append(cc)\n",
    "            elif 48 <= ord(cc) <=57:\n",
    "                stacks[int(cc)] = list(reversed(stacks.pop(ii, [])))\n",
    "\n",
    "    return stacks, ln\n",
    "\n",
    "def part1(infile):\n",
    "    filepath = os.path.join(\"..\", \"dat\", infile)\n",
    "    if not os.path.exists(filepath):\n",
    "        print(f\"Skipping {filepath}\")\n",
    "        return\n",
    "\n",
    "    with open(filepath) as f:\n",
    "        dd = f.readlines()\n",
    "\n",
    "    answer = 0\n",
    "\n",
    "    ###############################################################################################################\n",
    "    stacks, ln = load_stacks(dd)\n",
    "    for ss, ll in enumerate(dd[ln+1:]):\n",
    "        cmd = re.match(\"move (\\d+) from (\\d+) to (\\d+)\", ll)\n",
    "        if cmd:\n",
    "            nbox, from_col, to_col = cmd.groups()\n",
    "            nbox, from_col, to_col = int(nbox), int(from_col), int(to_col)\n",
    "            \n",
    "            stacks[to_col].extend(reversed(stacks[from_col][-nbox:]))\n",
    "            del stacks[from_col][-nbox:]\n",
    "\n",
    "    answer = \"\".join([ vv[-1] for _, vv in sorted(stacks.items(), key=lambda x: x[0])])\n",
    "    ###############################################################################################################\n",
    "    \n",
    "    return answer\n",
    "\n",
    "def test_part1():\n",
    "    assert part1(\"day5_test.txt\") == \"CMZ\"\n",
    "\n",
    "part1(\"day5.txt\")"
   ]
  },
  {
   "cell_type": "code",
   "execution_count": 20,
   "metadata": {},
   "outputs": [
    {
     "data": {
      "text/plain": [
       "'RNRGDNFQG'"
      ]
     },
     "execution_count": 20,
     "metadata": {},
     "output_type": "execute_result"
    },
    {
     "name": "stdout",
     "output_type": "stream",
     "text": [
      "\u001b[32m.\u001b[0m\u001b[32m                                                                                            [100%]\u001b[0m\n",
      "\u001b[32m\u001b[32m\u001b[1m1 passed\u001b[0m\u001b[32m in 0.01s\u001b[0m\u001b[0m\n"
     ]
    }
   ],
   "source": [
    "%%ipytest\n",
    "\n",
    "def part2(infile):\n",
    "    filepath = os.path.join(\"..\", \"dat\", infile)\n",
    "    if not os.path.exists(filepath):\n",
    "        print(f\"Skipping {filepath}\")\n",
    "        return\n",
    "\n",
    "    with open(filepath) as f:\n",
    "        dd = f.readlines()\n",
    "\n",
    "    answer = 0\n",
    "\n",
    "    ###############################################################################################################\n",
    "    stacks, ln = load_stacks(dd)\n",
    "    for ss, ll in enumerate(dd[ln+1:]):\n",
    "        cmd = re.match(\"move (\\d+) from (\\d+) to (\\d+)\", ll)\n",
    "        if cmd:\n",
    "            nbox, from_col, to_col = cmd.groups()\n",
    "            nbox, from_col, to_col = int(nbox), int(from_col), int(to_col)\n",
    "            \n",
    "            stacks[to_col].extend(stacks[from_col][-nbox:])\n",
    "            del stacks[from_col][-nbox:]\n",
    "\n",
    "    answer = \"\".join([ vv[-1] for _, vv in sorted(stacks.items(), key=lambda x: x[0])])\n",
    "    ###############################################################################################################\n",
    "    \n",
    "    return answer\n",
    "\n",
    "def test_part2():\n",
    "    assert part2(\"day5_test.txt\") == \"MCD\"\n",
    "\n",
    "part2(\"day5.txt\")"
   ]
  }
 ],
 "metadata": {
  "kernelspec": {
   "display_name": "Python 3.10.8 64-bit (microsoft store)",
   "language": "python",
   "name": "python3"
  },
  "language_info": {
   "codemirror_mode": {
    "name": "ipython",
    "version": 3
   },
   "file_extension": ".py",
   "mimetype": "text/x-python",
   "name": "python",
   "nbconvert_exporter": "python",
   "pygments_lexer": "ipython3",
   "version": "3.10.8"
  },
  "orig_nbformat": 4,
  "vscode": {
   "interpreter": {
    "hash": "a39f6c2249073c5c92ee04c8c63e216469c6dfa3b30ca9a1923d98708a4eabe1"
   }
  }
 },
 "nbformat": 4,
 "nbformat_minor": 2
}
