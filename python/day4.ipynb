{
 "cells": [
  {
   "cell_type": "code",
   "execution_count": 2,
   "metadata": {},
   "outputs": [],
   "source": [
    "import ipytest\n",
    "import os\n",
    "ipytest.autoconfig()"
   ]
  },
  {
   "cell_type": "code",
   "execution_count": 3,
   "metadata": {},
   "outputs": [
    {
     "name": "stdout",
     "output_type": "stream",
     "text": [
      "Skipping ..\\dat\\day4.txt\n",
      "\u001b[31mF\u001b[0m\u001b[31m                                                                                            [100%]\u001b[0m\n",
      "============================================ FAILURES =============================================\n",
      "\u001b[31m\u001b[1m___________________________________________ test_part1 ____________________________________________\u001b[0m\n",
      "\n",
      "    \u001b[94mdef\u001b[39;49;00m \u001b[92mtest_part1\u001b[39;49;00m():\n",
      ">       \u001b[94massert\u001b[39;49;00m part1(\u001b[33m\"\u001b[39;49;00m\u001b[33mday4_test.txt\u001b[39;49;00m\u001b[33m\"\u001b[39;49;00m) == \u001b[94m157\u001b[39;49;00m\n",
      "\u001b[1m\u001b[31mE       AssertionError: assert None == 157\u001b[0m\n",
      "\u001b[1m\u001b[31mE        +  where None = part1('day4_test.txt')\u001b[0m\n",
      "\n",
      "\u001b[1m\u001b[31mC:\\Users\\MichaelIhde\\AppData\\Local\\Temp\\ipykernel_19640\\1437777647.py\u001b[0m:15: AssertionError\n",
      "-------------------------------------- Captured stdout call ---------------------------------------\n",
      "Skipping ..\\dat\\day4_test.txt\n",
      "\u001b[36m\u001b[1m===================================== short test summary info =====================================\u001b[0m\n",
      "\u001b[31mFAILED\u001b[0m t_9e7a39f4119f4865b278010fae64f1bc.py::\u001b[1mtest_part1\u001b[0m - AssertionError: assert None == 157\n",
      "\u001b[31m\u001b[31m\u001b[1m1 failed\u001b[0m\u001b[31m in 0.28s\u001b[0m\u001b[0m\n"
     ]
    }
   ],
   "source": [
    "%%ipytest\n",
    "\n",
    "def part1(infile):\n",
    "    filepath = os.path.join(\"..\", \"dat\", infile)\n",
    "    if not os.path.exists(filepath):\n",
    "        print(f\"Skipping {filepath}\")\n",
    "        return\n",
    "\n",
    "    with open(filepath) as f:\n",
    "        dd = f.readlines()\n",
    "\n",
    "    answer = None\n",
    "    \n",
    "    return answer\n",
    "\n",
    "def test_part1():\n",
    "    assert part1(\"day4_test.txt\") == 157\n",
    "\n",
    "part1(\"day4.txt\")"
   ]
  },
  {
   "cell_type": "code",
   "execution_count": 4,
   "metadata": {},
   "outputs": [
    {
     "name": "stdout",
     "output_type": "stream",
     "text": [
      "Skipping ..\\dat\\day4.txt\n",
      "\u001b[31mF\u001b[0m\u001b[31m                                                                                            [100%]\u001b[0m\n",
      "============================================ FAILURES =============================================\n",
      "\u001b[31m\u001b[1m___________________________________________ test_part2 ____________________________________________\u001b[0m\n",
      "\n",
      "    \u001b[94mdef\u001b[39;49;00m \u001b[92mtest_part2\u001b[39;49;00m():\n",
      ">       \u001b[94massert\u001b[39;49;00m part2(\u001b[33m\"\u001b[39;49;00m\u001b[33mday4_test.txt\u001b[39;49;00m\u001b[33m\"\u001b[39;49;00m) == \u001b[94m70\u001b[39;49;00m\n",
      "\u001b[1m\u001b[31mE       AssertionError: assert None == 70\u001b[0m\n",
      "\u001b[1m\u001b[31mE        +  where None = part2('day4_test.txt')\u001b[0m\n",
      "\n",
      "\u001b[1m\u001b[31mC:\\Users\\MichaelIhde\\AppData\\Local\\Temp\\ipykernel_19640\\3342696810.py\u001b[0m:15: AssertionError\n",
      "-------------------------------------- Captured stdout call ---------------------------------------\n",
      "Skipping ..\\dat\\day4_test.txt\n",
      "\u001b[36m\u001b[1m===================================== short test summary info =====================================\u001b[0m\n",
      "\u001b[31mFAILED\u001b[0m t_9e7a39f4119f4865b278010fae64f1bc.py::\u001b[1mtest_part2\u001b[0m - AssertionError: assert None == 70\n",
      "\u001b[31m\u001b[31m\u001b[1m1 failed\u001b[0m\u001b[31m in 0.01s\u001b[0m\u001b[0m\n"
     ]
    }
   ],
   "source": [
    "%%ipytest\n",
    "\n",
    "def part2(infile):\n",
    "    filepath = os.path.join(\"..\", \"dat\", infile)\n",
    "    if not os.path.exists(filepath):\n",
    "        print(f\"Skipping {filepath}\")\n",
    "        return\n",
    "\n",
    "    with open(filepath) as f:\n",
    "        dd = f.readlines()\n",
    "\n",
    "    answer = None\n",
    "    \n",
    "    return answer\n",
    "\n",
    "def test_part2():\n",
    "    assert part2(\"day4_test.txt\") == 70\n",
    "\n",
    "part2(\"day4.txt\")"
   ]
  },
  {
   "cell_type": "code",
   "execution_count": 9,
   "metadata": {},
   "outputs": [
    {
     "data": {
      "text/plain": [
       "112654365193584"
      ]
     },
     "execution_count": 9,
     "metadata": {},
     "output_type": "execute_result"
    }
   ],
   "source": [
    "x = []\n",
    "for xx in \"fuckup\":\n",
    "    x.append(\"%x\" % ord(xx))\n",
    "int(\"\".join(x), 16)"
   ]
  }
 ],
 "metadata": {
  "kernelspec": {
   "display_name": "Python 3.10.8 64-bit (microsoft store)",
   "language": "python",
   "name": "python3"
  },
  "language_info": {
   "codemirror_mode": {
    "name": "ipython",
    "version": 3
   },
   "file_extension": ".py",
   "mimetype": "text/x-python",
   "name": "python",
   "nbconvert_exporter": "python",
   "pygments_lexer": "ipython3",
   "version": "3.10.8"
  },
  "orig_nbformat": 4,
  "vscode": {
   "interpreter": {
    "hash": "e0acaf148705ed9ed86cc5cad12259d7985e30670e5686e5f55604a9b3b84a55"
   }
  }
 },
 "nbformat": 4,
 "nbformat_minor": 2
}
