{
 "cells": [
  {
   "cell_type": "code",
   "execution_count": 59,
   "metadata": {},
   "outputs": [],
   "source": [
    "import ipytest\n",
    "import os\n",
    "ipytest.autoconfig()"
   ]
  },
  {
   "cell_type": "code",
   "execution_count": 60,
   "metadata": {},
   "outputs": [
    {
     "data": {
      "text/plain": [
       "8243"
      ]
     },
     "execution_count": 60,
     "metadata": {},
     "output_type": "execute_result"
    },
    {
     "name": "stdout",
     "output_type": "stream",
     "text": [
      "\u001b[32m.\u001b[0m\u001b[32m                                                                                            [100%]\u001b[0m\n",
      "\u001b[32m\u001b[32m\u001b[1m1 passed\u001b[0m\u001b[32m in 0.01s\u001b[0m\u001b[0m\n"
     ]
    }
   ],
   "source": [
    "%%ipytest\n",
    "\n",
    "def part1(infile):\n",
    "    filepath = os.path.join(\"..\", \"dat\", infile)\n",
    "    if not os.path.exists(filepath):\n",
    "        print(f\"Skipping {filepath}\")\n",
    "        return\n",
    "\n",
    "    with open(filepath) as f:\n",
    "        dd = f.readlines()\n",
    "\n",
    "    priority = {}\n",
    "    \n",
    "    priority.update(\n",
    "        { chr(xx): ii+1 for ii, xx in enumerate(range(97, 123))}\n",
    "    )\n",
    "    priority.update(\n",
    "        { chr(xx): ii+27 for ii, xx in enumerate(range(65, 91))}\n",
    "    )\n",
    "\n",
    "    total = 0\n",
    "    for ll in dd:\n",
    "        ll = ll.strip()\n",
    "        halfway = len(ll) // 2\n",
    "        aa, bb = set(ll[0:halfway]), set(ll[halfway:])\n",
    "        comm = aa & bb\n",
    "        total += priority[comm.pop()]\n",
    "    \n",
    "    return total\n",
    "\n",
    "def test_part1():\n",
    "    assert part1(\"day3_test.txt\") == 157\n",
    "\n",
    "part1(\"day3.txt\")"
   ]
  },
  {
   "cell_type": "code",
   "execution_count": 61,
   "metadata": {},
   "outputs": [
    {
     "data": {
      "text/plain": [
       "2631"
      ]
     },
     "execution_count": 61,
     "metadata": {},
     "output_type": "execute_result"
    },
    {
     "name": "stdout",
     "output_type": "stream",
     "text": [
      "\u001b[32m.\u001b[0m\u001b[32m                                                                                            [100%]\u001b[0m\n",
      "\u001b[32m\u001b[32m\u001b[1m1 passed\u001b[0m\u001b[32m in 0.01s\u001b[0m\u001b[0m\n"
     ]
    }
   ],
   "source": [
    "%%ipytest\n",
    "\n",
    "def part2(infile):\n",
    "    filepath = os.path.join(\"..\", \"dat\", infile)\n",
    "    if not os.path.exists(filepath):\n",
    "        print(f\"Skipping {filepath}\")\n",
    "        return\n",
    "\n",
    "    with open(filepath) as f:\n",
    "        dd = f.readlines()\n",
    "\n",
    "    priority = {}\n",
    "    \n",
    "    priority.update(\n",
    "        { chr(xx): ii+1 for ii, xx in enumerate(range(97, 123))}\n",
    "    )\n",
    "    priority.update(\n",
    "        { chr(xx): ii+27 for ii, xx in enumerate(range(65, 91))}\n",
    "    )\n",
    "\n",
    "    total = 0\n",
    "    comm = set()\n",
    "    for ii, ll in enumerate(dd):\n",
    "        ll = set(ll.strip())\n",
    "        if ii % 3 == 0:\n",
    "            comm = ll\n",
    "        else:\n",
    "            comm = comm & ll\n",
    "\n",
    "        if ii % 3 == 2:\n",
    "            score = priority[comm.pop()]\n",
    "            total += score\n",
    "\n",
    "    return total\n",
    "\n",
    "def test_part2():\n",
    "    assert part2(\"day3_test.txt\") == 70\n",
    "\n",
    "part2(\"day3.txt\")"
   ]
  }
 ],
 "metadata": {
  "kernelspec": {
   "display_name": "Python 3.10.8 64-bit (microsoft store)",
   "language": "python",
   "name": "python3"
  },
  "language_info": {
   "codemirror_mode": {
    "name": "ipython",
    "version": 3
   },
   "file_extension": ".py",
   "mimetype": "text/x-python",
   "name": "python",
   "nbconvert_exporter": "python",
   "pygments_lexer": "ipython3",
   "version": "3.10.8"
  },
  "orig_nbformat": 4,
  "vscode": {
   "interpreter": {
    "hash": "e0acaf148705ed9ed86cc5cad12259d7985e30670e5686e5f55604a9b3b84a55"
   }
  }
 },
 "nbformat": 4,
 "nbformat_minor": 2
}
